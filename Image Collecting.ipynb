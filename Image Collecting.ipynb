{
 "cells": [
  {
   "cell_type": "markdown",
   "id": "6475c903",
   "metadata": {},
   "source": [
    "#1. Importing out dependencies"
   ]
  },
  {
   "cell_type": "code",
   "execution_count": 1,
   "id": "555d1e6b",
   "metadata": {},
   "outputs": [
    {
     "name": "stdout",
     "output_type": "stream",
     "text": [
      "Requirement already satisfied: opencv-python in c:\\users\\asher\\appdata\\local\\packages\\pythonsoftwarefoundation.python.3.10_qbz5n2kfra8p0\\localcache\\local-packages\\python310\\site-packages (4.7.0.72)\n",
      "Requirement already satisfied: numpy>=1.21.2 in c:\\users\\asher\\appdata\\local\\packages\\pythonsoftwarefoundation.python.3.10_qbz5n2kfra8p0\\localcache\\local-packages\\python310\\site-packages (from opencv-python) (1.24.2)\n",
      "Note: you may need to restart the kernel to use updated packages.\n"
     ]
    },
    {
     "name": "stderr",
     "output_type": "stream",
     "text": [
      "WARNING: Ignoring invalid distribution -pencv-python (c:\\users\\asher\\appdata\\local\\packages\\pythonsoftwarefoundation.python.3.10_qbz5n2kfra8p0\\localcache\\local-packages\\python310\\site-packages)\n",
      "WARNING: Ignoring invalid distribution -pencv-python (c:\\users\\asher\\appdata\\local\\packages\\pythonsoftwarefoundation.python.3.10_qbz5n2kfra8p0\\localcache\\local-packages\\python310\\site-packages)\n",
      "WARNING: Ignoring invalid distribution -pencv-python (c:\\users\\asher\\appdata\\local\\packages\\pythonsoftwarefoundation.python.3.10_qbz5n2kfra8p0\\localcache\\local-packages\\python310\\site-packages)\n",
      "WARNING: Ignoring invalid distribution -pencv-python (c:\\users\\asher\\appdata\\local\\packages\\pythonsoftwarefoundation.python.3.10_qbz5n2kfra8p0\\localcache\\local-packages\\python310\\site-packages)\n"
     ]
    }
   ],
   "source": [
    "pip install opencv-python"
   ]
  },
  {
   "cell_type": "code",
   "execution_count": 2,
   "id": "6ab67ee1",
   "metadata": {},
   "outputs": [],
   "source": [
    "# Import opencv\n",
    "import cv2 \n",
    "\n",
    "# Import uuid\n",
    "import uuid\n",
    "\n",
    "# Import Operating System\n",
    "import os\n",
    "\n",
    "# Import time\n",
    "import time"
   ]
  },
  {
   "cell_type": "markdown",
   "id": "eda97687",
   "metadata": {},
   "source": [
    "Collected Images?"
   ]
  },
  {
   "cell_type": "code",
   "execution_count": 2,
   "id": "1e7892ef",
   "metadata": {},
   "outputs": [],
   "source": [
    "IMAGES_PATH = os.path.join('Tensorflow', 'workspace', 'images', 'collectedimages')"
   ]
  },
  {
   "cell_type": "code",
   "execution_count": 3,
   "id": "007fe73e",
   "metadata": {},
   "outputs": [
    {
     "data": {
      "text/plain": [
       "'Tensorflow\\\\workspace\\\\images\\\\collectedimages'"
      ]
     },
     "execution_count": 3,
     "metadata": {},
     "output_type": "execute_result"
    }
   ],
   "source": [
    "IMAGES_PATH"
   ]
  },
  {
   "cell_type": "code",
   "execution_count": 5,
   "id": "804d56b9",
   "metadata": {},
   "outputs": [],
   "source": [
    "labels = ['bottle']\n",
    "number_imgs = 6"
   ]
  },
  {
   "cell_type": "markdown",
   "id": "126fae12",
   "metadata": {},
   "source": [
    "Collecting Images Using Web cam"
   ]
  },
  {
   "cell_type": "code",
   "execution_count": 6,
   "id": "39ea1f62",
   "metadata": {},
   "outputs": [
    {
     "name": "stdout",
     "output_type": "stream",
     "text": [
      "Collecting images for bottle\n",
      "Collecting image 0\n",
      "Collecting image 1\n",
      "Collecting image 2\n",
      "Collecting image 3\n",
      "Collecting image 4\n",
      "Collecting image 5\n"
     ]
    }
   ],
   "source": [
    "for label in labels:\n",
    "    cap = cv2.VideoCapture(0) #connects to webcam or capture device\n",
    "    print('Collecting images for {}'.format(label))\n",
    "    time.sleep(5)\n",
    "    for imgnum in range(number_imgs):\n",
    "        print('Collecting image {}'.format(imgnum))\n",
    "        ret, frame = cap.read()\n",
    "        imgname = os.path.join(IMAGES_PATH,label,label+'.'+'{}.jpg'.format(str(uuid.uuid1())))\n",
    "        cv2.imwrite(imgname, frame)\n",
    "        cv2.imshow('frame', frame)\n",
    "        time.sleep(2)\n",
    "\n",
    "        if cv2.waitKey(1) & 0xFF == ord('q'):\n",
    "            break\n",
    "cap.release()\n",
    "cv2.destroyAllWindows()"
   ]
  },
  {
   "cell_type": "markdown",
   "id": "ff8d1fc0",
   "metadata": {},
   "source": [
    "Labelimg"
   ]
  },
  {
   "cell_type": "code",
   "execution_count": 3,
   "id": "93289824",
   "metadata": {},
   "outputs": [],
   "source": [
    "LABELIMG_PATH = os.path.join('Tensorflow', 'labelimg')"
   ]
  },
  {
   "cell_type": "code",
   "execution_count": 4,
   "id": "5c7c05a9",
   "metadata": {},
   "outputs": [
    {
     "name": "stdout",
     "output_type": "stream",
     "text": [
      "Image:D:\\RealTimeObjectDetection\\Tensorflow\\workspace\\images\\collectedimages\\WIN_20230516_10_30_54_Pro.jpg -> Annotation:D:/RealTimeObjectDetection/Tensorflow/workspace/images/collectedimages\\WIN_20230516_10_30_54_Pro.xml\n",
      "Image:D:\\RealTimeObjectDetection\\Tensorflow\\workspace\\images\\collectedimages\\WIN_20230516_10_30_55_Pro.jpg -> Annotation:D:/RealTimeObjectDetection/Tensorflow/workspace/images/collectedimages\\WIN_20230516_10_30_55_Pro.xml\n",
      "Image:D:\\RealTimeObjectDetection\\Tensorflow\\workspace\\images\\collectedimages\\WIN_20230516_10_30_56_Pro.jpg -> Annotation:D:/RealTimeObjectDetection/Tensorflow/workspace/images/collectedimages\\WIN_20230516_10_30_56_Pro.xml\n",
      "Cancel creation.\n",
      "Image:D:\\RealTimeObjectDetection\\Tensorflow\\workspace\\images\\collectedimages\\WIN_20230516_10_30_58_Pro.jpg -> Annotation:D:/RealTimeObjectDetection/Tensorflow/workspace/images/collectedimages\\WIN_20230516_10_30_58_Pro.xml\n",
      "Image:D:\\RealTimeObjectDetection\\Tensorflow\\workspace\\images\\collectedimages\\WIN_20230516_10_31_02_Pro.jpg -> Annotation:D:/RealTimeObjectDetection/Tensorflow/workspace/images/collectedimages\\WIN_20230516_10_31_02_Pro.xml\n",
      "Image:D:\\RealTimeObjectDetection\\Tensorflow\\workspace\\images\\collectedimages\\WIN_20230516_10_31_03_Pro.jpg -> Annotation:D:/RealTimeObjectDetection/Tensorflow/workspace/images/collectedimages\\WIN_20230516_10_31_03_Pro.xml\n",
      "Image:D:\\RealTimeObjectDetection\\Tensorflow\\workspace\\images\\collectedimages\\WIN_20230516_10_31_08_Pro.jpg -> Annotation:D:/RealTimeObjectDetection/Tensorflow/workspace/images/collectedimages\\WIN_20230516_10_31_08_Pro.xml\n",
      "Image:D:\\RealTimeObjectDetection\\Tensorflow\\workspace\\images\\collectedimages\\WIN_20230516_10_31_09_Pro.jpg -> Annotation:D:/RealTimeObjectDetection/Tensorflow/workspace/images/collectedimages\\WIN_20230516_10_31_09_Pro.xml\n",
      "Image:D:\\RealTimeObjectDetection\\Tensorflow\\workspace\\images\\collectedimages\\WIN_20230516_10_31_10_Pro.jpg -> Annotation:D:/RealTimeObjectDetection/Tensorflow/workspace/images/collectedimages\\WIN_20230516_10_31_10_Pro.xml\n",
      "Image:D:\\RealTimeObjectDetection\\Tensorflow\\workspace\\images\\collectedimages\\WIN_20230516_10_31_14_Pro.jpg -> Annotation:D:/RealTimeObjectDetection/Tensorflow/workspace/images/collectedimages\\WIN_20230516_10_31_14_Pro.xml\n",
      "Image:D:\\RealTimeObjectDetection\\Tensorflow\\workspace\\images\\collectedimages\\WIN_20230516_10_31_15_Pro.jpg -> Annotation:D:/RealTimeObjectDetection/Tensorflow/workspace/images/collectedimages\\WIN_20230516_10_31_15_Pro.xml\n",
      "Image:D:\\RealTimeObjectDetection\\Tensorflow\\workspace\\images\\collectedimages\\WIN_20230516_10_31_17_Pro.jpg -> Annotation:D:/RealTimeObjectDetection/Tensorflow/workspace/images/collectedimages\\WIN_20230516_10_31_17_Pro.xml\n",
      "Image:D:\\RealTimeObjectDetection\\Tensorflow\\workspace\\images\\collectedimages\\WIN_20230516_10_31_18_Pro.jpg -> Annotation:D:/RealTimeObjectDetection/Tensorflow/workspace/images/collectedimages\\WIN_20230516_10_31_18_Pro.xml\n",
      "Image:D:\\RealTimeObjectDetection\\Tensorflow\\workspace\\images\\collectedimages\\WIN_20230516_10_31_20_Pro.jpg -> Annotation:D:/RealTimeObjectDetection/Tensorflow/workspace/images/collectedimages\\WIN_20230516_10_31_20_Pro.xml\n",
      "Image:D:\\RealTimeObjectDetection\\Tensorflow\\workspace\\images\\collectedimages\\WIN_20230516_10_31_28_Pro.jpg -> Annotation:D:/RealTimeObjectDetection/Tensorflow/workspace/images/collectedimages\\WIN_20230516_10_31_28_Pro.xml\n",
      "Image:D:\\RealTimeObjectDetection\\Tensorflow\\workspace\\images\\collectedimages\\WIN_20230516_10_31_29_Pro.jpg -> Annotation:D:/RealTimeObjectDetection/Tensorflow/workspace/images/collectedimages\\WIN_20230516_10_31_29_Pro.xml\n",
      "Image:D:\\RealTimeObjectDetection\\Tensorflow\\workspace\\images\\collectedimages\\WIN_20230516_10_31_38_Pro.jpg -> Annotation:D:/RealTimeObjectDetection/Tensorflow/workspace/images/collectedimages\\WIN_20230516_10_31_38_Pro.xml\n",
      "Image:D:\\RealTimeObjectDetection\\Tensorflow\\workspace\\images\\collectedimages\\WIN_20230516_10_31_39_Pro.jpg -> Annotation:D:/RealTimeObjectDetection/Tensorflow/workspace/images/collectedimages\\WIN_20230516_10_31_39_Pro.xml\n",
      "Image:D:\\RealTimeObjectDetection\\Tensorflow\\workspace\\images\\collectedimages\\WIN_20230516_10_31_42_Pro.jpg -> Annotation:D:/RealTimeObjectDetection/Tensorflow/workspace/images/collectedimages\\WIN_20230516_10_31_42_Pro.xml\n",
      "Image:D:\\RealTimeObjectDetection\\Tensorflow\\workspace\\images\\collectedimages\\WIN_20230516_10_31_44_Pro.jpg -> Annotation:D:/RealTimeObjectDetection/Tensorflow/workspace/images/collectedimages\\WIN_20230516_10_31_44_Pro.xml\n",
      "Image:D:\\RealTimeObjectDetection\\Tensorflow\\workspace\\images\\collectedimages\\WIN_20230516_10_31_46_Pro.jpg -> Annotation:D:/RealTimeObjectDetection/Tensorflow/workspace/images/collectedimages\\WIN_20230516_10_31_46_Pro.xml\n",
      "Image:D:\\RealTimeObjectDetection\\Tensorflow\\workspace\\images\\collectedimages\\WIN_20230516_10_31_54_Pro.jpg -> Annotation:D:/RealTimeObjectDetection/Tensorflow/workspace/images/collectedimages\\WIN_20230516_10_31_54_Pro.xml\n",
      "Image:D:\\RealTimeObjectDetection\\Tensorflow\\workspace\\images\\collectedimages\\WIN_20230516_10_31_55_Pro.jpg -> Annotation:D:/RealTimeObjectDetection/Tensorflow/workspace/images/collectedimages\\WIN_20230516_10_31_55_Pro.xml\n",
      "Image:D:\\RealTimeObjectDetection\\Tensorflow\\workspace\\images\\collectedimages\\WIN_20230516_10_31_58_Pro.jpg -> Annotation:D:/RealTimeObjectDetection/Tensorflow/workspace/images/collectedimages\\WIN_20230516_10_31_58_Pro.xml\n",
      "Image:D:\\RealTimeObjectDetection\\Tensorflow\\workspace\\images\\collectedimages\\WIN_20230516_10_31_59_Pro.jpg -> Annotation:D:/RealTimeObjectDetection/Tensorflow/workspace/images/collectedimages\\WIN_20230516_10_31_59_Pro.xml\n",
      "Image:D:\\RealTimeObjectDetection\\Tensorflow\\workspace\\images\\collectedimages\\WIN_20230516_10_32_01_Pro.jpg -> Annotation:D:/RealTimeObjectDetection/Tensorflow/workspace/images/collectedimages\\WIN_20230516_10_32_01_Pro.xml\n"
     ]
    }
   ],
   "source": [
    "!cd {LABELIMG_PATH} && python labelImg.py"
   ]
  },
  {
   "cell_type": "code",
   "execution_count": null,
   "id": "cd5604a8",
   "metadata": {},
   "outputs": [],
   "source": []
  }
 ],
 "metadata": {
  "kernelspec": {
   "display_name": "Python 3 (ipykernel)",
   "language": "python",
   "name": "python3"
  },
  "language_info": {
   "codemirror_mode": {
    "name": "ipython",
    "version": 3
   },
   "file_extension": ".py",
   "mimetype": "text/x-python",
   "name": "python",
   "nbconvert_exporter": "python",
   "pygments_lexer": "ipython3",
   "version": "3.10.11"
  }
 },
 "nbformat": 4,
 "nbformat_minor": 5
}
